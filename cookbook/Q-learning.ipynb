{
 "cells": [
  {
   "cell_type": "code",
   "execution_count": 2,
   "id": "176d8fe7-e212-4ab1-b699-5e5fdf28168a",
   "metadata": {},
   "outputs": [],
   "source": [
    "#Environment Setup\n",
    "import gymnasium as gym\n",
    "# env = gym.make(\"CartPole-v1\", render_mode=\"rgb_array\")\n",
    "env=gym.make('CartPole-v1',render_mode='human')"
   ]
  },
  {
   "cell_type": "code",
   "execution_count": 3,
   "id": "8e457446-a97b-4de9-9c48-6bbac3cf5619",
   "metadata": {},
   "outputs": [],
   "source": [
    "(state,_)=env.reset()"
   ]
  },
  {
   "cell_type": "code",
   "execution_count": null,
   "id": "abe55822-a842-46a0-970a-ca31e44b6c76",
   "metadata": {},
   "outputs": [],
   "source": []
  }
 ],
 "metadata": {
  "kernelspec": {
   "display_name": "Python 3 (ipykernel)",
   "language": "python",
   "name": "python3"
  },
  "language_info": {
   "codemirror_mode": {
    "name": "ipython",
    "version": 3
   },
   "file_extension": ".py",
   "mimetype": "text/x-python",
   "name": "python",
   "nbconvert_exporter": "python",
   "pygments_lexer": "ipython3",
   "version": "3.12.4"
  }
 },
 "nbformat": 4,
 "nbformat_minor": 5
}
